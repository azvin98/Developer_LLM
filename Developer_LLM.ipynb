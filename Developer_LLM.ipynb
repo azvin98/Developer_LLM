{
  "nbformat": 4,
  "nbformat_minor": 0,
  "metadata": {
    "colab": {
      "provenance": [],
      "authorship_tag": "ABX9TyO84oXWQ/sRCXrEEOPfsfoO",
      "include_colab_link": true
    },
    "kernelspec": {
      "name": "python3",
      "display_name": "Python 3"
    },
    "language_info": {
      "name": "python"
    }
  },
  "cells": [
    {
      "cell_type": "markdown",
      "metadata": {
        "id": "view-in-github",
        "colab_type": "text"
      },
      "source": [
        "<a href=\"https://colab.research.google.com/github/azvin98/Developer_LLM/blob/main/Developer_LLM.ipynb\" target=\"_parent\"><img src=\"https://colab.research.google.com/assets/colab-badge.svg\" alt=\"Open In Colab\"/></a>"
      ]
    },
    {
      "cell_type": "markdown",
      "source": [
        "# **Preparação dos dados**"
      ],
      "metadata": {
        "id": "uSQe1RVX7Hkx"
      }
    },
    {
      "cell_type": "markdown",
      "source": [
        "Instalação da API do Git"
      ],
      "metadata": {
        "id": "jLHfiuHc6ory"
      }
    },
    {
      "cell_type": "code",
      "execution_count": null,
      "metadata": {
        "id": "D0jAbXzpvVD7"
      },
      "outputs": [],
      "source": [
        "!apt install git"
      ]
    },
    {
      "cell_type": "markdown",
      "source": [
        "Clonar o repositório\n"
      ],
      "metadata": {
        "id": "01BFHPOx6sR4"
      }
    },
    {
      "cell_type": "code",
      "source": [
        "!git clone https://github.com/SOS-RS/frontend.git"
      ],
      "metadata": {
        "id": "f1zeJ3EU6wC5"
      },
      "execution_count": null,
      "outputs": []
    },
    {
      "cell_type": "markdown",
      "source": [
        "Percorrer todas as pastas e pegar o conteúdo delas"
      ],
      "metadata": {
        "id": "1AWi0Cmu60p3"
      }
    },
    {
      "cell_type": "code",
      "source": [
        "import glob\n",
        "import os\n",
        "\n",
        "root = \"frontend/src\"\n",
        "ts_files = glob.glob(os.path.join(root, \"**/*.tsx\"), recursive=True)\n",
        "tsx_files = glob.glob(os.path.join(root, \"**/*.ts\"), recursive=True)\n",
        "\n",
        "all_codes = \"\"\n",
        "for file in ts_files + tsx_files:  # Combina as listas de arquivos\n",
        "    with open(file, \"r\") as f:\n",
        "        code = f.read()\n",
        "        all_codes += code + \"\\n\\n\"\n",
        "\n"
      ],
      "metadata": {
        "id": "oBR62GQ9x79p"
      },
      "execution_count": 18,
      "outputs": []
    },
    {
      "cell_type": "markdown",
      "source": [
        "# Instalação e configuração do Chatbot"
      ],
      "metadata": {
        "id": "VNETFPAy7S7L"
      }
    },
    {
      "cell_type": "markdown",
      "source": [
        "Instalação do SDK do Google"
      ],
      "metadata": {
        "id": "5ogDXv2L7dy1"
      }
    },
    {
      "cell_type": "code",
      "source": [
        "!pip install -q -U google-generativeai"
      ],
      "metadata": {
        "id": "idBPQah5046H"
      },
      "execution_count": 20,
      "outputs": []
    },
    {
      "cell_type": "code",
      "source": [
        "import google.generativeai as genai\n",
        "from google.colab import userdata\n",
        "API_KEY = userdata.get(\"SECRET_KEY\")\n",
        "\n",
        "GOOGLE_API_KEY=API_KEY\n",
        "genai.configure(api_key=GOOGLE_API_KEY)"
      ],
      "metadata": {
        "id": "EiDicj0e1Zq6"
      },
      "execution_count": 21,
      "outputs": []
    },
    {
      "cell_type": "markdown",
      "source": [
        "Configuração do Modelo"
      ],
      "metadata": {
        "id": "e1Rxqr1B7v1U"
      }
    },
    {
      "cell_type": "code",
      "source": [
        "generation_config = {\n",
        " \"candidate_count\": 1,\n",
        " \"temperature\": 0.7,\n",
        "}"
      ],
      "metadata": {
        "id": "YWNuQrtX1wXV"
      },
      "execution_count": 22,
      "outputs": []
    },
    {
      "cell_type": "code",
      "source": [
        "safety_settings={\n",
        "    \"HARASSMENT\": \"BLOCK_NONE\",\n",
        "    \"HATE\": \"BLOCK_NONE\",\n",
        "    \"SEXUAL\": \"BLOCK_NONE\",\n",
        "    \"DANGEROUS\": \"BLOCK_NONE\"\n",
        "}"
      ],
      "metadata": {
        "id": "D9nQnLbq1w3i"
      },
      "execution_count": 23,
      "outputs": []
    },
    {
      "cell_type": "code",
      "source": [
        "system_instruction = \"Você é um desenvolvedor front-end sênior, o projeto que você está trabalhando no momento é desenvolvido em React utilizando TypeScript. Utilize os códigos passados abaixo como contexto de desenvolvimento do projeto que você está atuando, assim como as boas práticas de desenvolvimento. \\nCódigo: \" + all_codes\n"
      ],
      "metadata": {
        "id": "YKSAa4I528e2"
      },
      "execution_count": 42,
      "outputs": []
    },
    {
      "cell_type": "code",
      "source": [
        "model = genai.GenerativeModel(model_name=\"gemini-1.5-pro-latest\",\n",
        "                              generation_config=generation_config,\n",
        "                              safety_settings=safety_settings,\n",
        "                              system_instruction=system_instruction)"
      ],
      "metadata": {
        "id": "a0Or_h-F1013"
      },
      "execution_count": 38,
      "outputs": []
    },
    {
      "cell_type": "code",
      "source": [
        "chat = model.start_chat(history=[])"
      ],
      "metadata": {
        "id": "o8ZEpjuO4I6L"
      },
      "execution_count": 46,
      "outputs": []
    },
    {
      "cell_type": "markdown",
      "source": [
        "# Chatbot"
      ],
      "metadata": {
        "id": "lbx0gAmT7zNu"
      }
    },
    {
      "cell_type": "code",
      "source": [
        "prompt = input( \"Enter your prompt: \")\n",
        "\n",
        "while prompt != \"exit\":\n",
        "  response = chat.send_message(prompt)\n",
        "  print(response.text)\n",
        "  prompt = input( \"\\n Enter your prompt: \")"
      ],
      "metadata": {
        "id": "TNr_6K7a4gbT"
      },
      "execution_count": null,
      "outputs": []
    },
    {
      "cell_type": "code",
      "source": [
        "import textwrap\n",
        "from IPython.display import display\n",
        "from IPython.display import Markdown\n",
        "\n",
        "def to_markdown(text):\n",
        "  text = text.replace('•', '  *')\n",
        "  return Markdown(textwrap.indent(text, '> ', predicate=lambda _: True))\n",
        "\n",
        "#Imprimindo o histórico\n",
        "for message in chat.history:\n",
        "  display(to_markdown(f'**{message.role}**: {message.parts[0].text}'))\n",
        "  print('-------------------------------------------')"
      ],
      "metadata": {
        "id": "aApn9N8R79ci"
      },
      "execution_count": null,
      "outputs": []
    }
  ]
}